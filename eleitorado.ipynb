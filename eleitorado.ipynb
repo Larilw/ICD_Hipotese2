{
 "cells": [
  {
   "attachments": {},
   "cell_type": "markdown",
   "metadata": {},
   "source": [
    "# Alunos\n",
    "\n",
    "Completar os nomes depois\n",
    "* Gabriel\n",
    "* Larissa\n",
    "* Sofia\n"
   ]
  },
  {
   "attachments": {},
   "cell_type": "markdown",
   "metadata": {},
   "source": [
    "# Hipótese 2\n",
    "\n",
    "## Pergunta a ser respondida: A polarização política do país influencia no comparecimento de pessoas que não são obrigadas a votar nas eleições?\n",
    "\n",
    "    * Qual grupo ( Analfabetos, Menores de 18 anos ou Maiores de 70 anos ) sofre maior influência dos fatores políticos?\n",
    "\n",
    "    * Não sei oq mais"
   ]
  },
  {
   "attachments": {},
   "cell_type": "markdown",
   "metadata": {},
   "source": [
    "# Import dos Módulos Utilizados"
   ]
  },
  {
   "cell_type": "code",
   "execution_count": 90,
   "metadata": {},
   "outputs": [],
   "source": [
    "import numpy as np\n",
    "import pandas as pd"
   ]
  },
  {
   "attachments": {},
   "cell_type": "markdown",
   "metadata": {},
   "source": [
    "# Carregamento dos datasets"
   ]
  },
  {
   "cell_type": "code",
   "execution_count": 91,
   "metadata": {},
   "outputs": [],
   "source": [
    "original_2002 = pd.read_csv('perfil_eleitorado_2002.csv',  encoding='cp1252', sep=\";\")\n",
    "original_2006 = pd.read_csv('perfil_eleitorado_2006.csv',  encoding='cp1252', sep=\";\")\n",
    "# O carregamento dos dados do ano de 2010 foi realizado especificando as colunas de acordo com o documento LEIAME \n",
    "original_2010 = pd.read_csv('perfil_eleitorado_2010.txt',  encoding='cp1252', sep=\";\", names=[\"PERIODO\", \"UF\", \"MUNICIPIO\", \"COD_MUNICIPIO_TSE\", \"NR_ZONA\", \"SEXO\", \"FAIXA_ETARIA\", \"GRAU_DE_ESCOLARIDADE\", \"QTD_ELEITORES_PERFIL\"], low_memory=False)\n",
    "original_2014 = pd.read_csv('perfil_eleitorado_2014.csv',  encoding='cp1252', sep=\";\")\n",
    "original_2018 = pd.read_csv('perfil_eleitorado_2018.csv',  encoding='cp1252', sep=\";\")\n",
    "original_2022 = pd.read_csv('perfil_eleitorado_2022.csv',  encoding='cp1252', sep=\";\")"
   ]
  },
  {
   "attachments": {},
   "cell_type": "markdown",
   "metadata": {},
   "source": [
    "# Remoção de Colunas Desnecessárias"
   ]
  },
  {
   "cell_type": "code",
   "execution_count": 92,
   "metadata": {},
   "outputs": [],
   "source": [
    "eleitorado_2002 = original_2002[[\"ANO_ELEICAO\", \"SG_UF\", \"DS_GENERO\", \"DS_GRAU_ESCOLARIDADE\", \"QT_ELEITORES_PERFIL\"]].copy()\n",
    "eleitorado_2006 = original_2006[[\"ANO_ELEICAO\", \"SG_UF\", \"DS_GENERO\", \"DS_GRAU_ESCOLARIDADE\", \"QT_ELEITORES_PERFIL\"]].copy()\n",
    "eleitorado_2010 = original_2010[[\"PERIODO\", \"UF\", \"SEXO\", \"FAIXA_ETARIA\", \"GRAU_DE_ESCOLARIDADE\", \"QTD_ELEITORES_PERFIL\"]].copy()\n",
    "eleitorado_2014 = original_2014[[\"ANO_ELEICAO\", \"SG_UF\", \"DS_GENERO\", \"DS_FAIXA_ETARIA\", \"DS_GRAU_ESCOLARIDADE\", \"QT_ELEITORES_PERFIL\"]].copy()\n",
    "eleitorado_2018 = original_2018[[\"ANO_ELEICAO\", \"SG_UF\", \"DS_GENERO\", \"DS_FAIXA_ETARIA\", \"DS_GRAU_ESCOLARIDADE\", \"QT_ELEITORES_PERFIL\"]].copy()\n",
    "eleitorado_2022 = original_2022[[\"ANO_ELEICAO\", \"SG_UF\", \"DS_GENERO\", \"DS_FAIXA_ETARIA\", \"DS_GRAU_ESCOLARIDADE\", \"QT_ELEITORES_PERFIL\"]].copy()"
   ]
  },
  {
   "cell_type": "code",
   "execution_count": 93,
   "metadata": {},
   "outputs": [
    {
     "data": {
      "text/plain": [
       "'\\ndataset_2002\\ndataset_2006\\ndataset_2010\\ndataset_2014\\ndataset_2018\\ndataset_2022\\n'"
      ]
     },
     "execution_count": 93,
     "metadata": {},
     "output_type": "execute_result"
    }
   ],
   "source": [
    "\"\"\"\n",
    "dataset_2002\n",
    "dataset_2006\n",
    "dataset_2010\n",
    "dataset_2014\n",
    "dataset_2018\n",
    "dataset_2022\n",
    "\"\"\""
   ]
  },
  {
   "attachments": {},
   "cell_type": "markdown",
   "metadata": {},
   "source": [
    "# Remoção de Valores Inválidos\n",
    "\n",
    "Foram analisados os valores das colunas e verificou-se que apenas no dataset de 2010 havia valores NaN. Também foi verificado se valores \"NÃO INFORMADO\" para grau de escolaridade e gênero formavam um grupo considerável. Com a confirmação de que os dados em que não foi informada escolaridade englobam parte considerável dos eleitores envolvidos foi escolhido manter essas categorias a fim de estudo."
   ]
  },
  {
   "cell_type": "code",
   "execution_count": 95,
   "metadata": {},
   "outputs": [
    {
     "name": "stdout",
     "output_type": "stream",
     "text": [
      "226708\n",
      "217592\n",
      "115254113\n"
     ]
    }
   ],
   "source": [
    "datanova = original_2002.loc[original_2002[\"DS_GRAU_ESCOLARIDADE\"].isin(['NÃO INFORMADO'])]\n",
    "datanova2 = original_2002.loc[original_2002[\"DS_GENERO\"].isin(['NÃO INFORMADO'])]\n",
    "print(datanova['QT_ELEITORES_PERFIL'].sum())\n",
    "print(datanova2['QT_ELEITORES_PERFIL'].sum())\n",
    "print(original_2002['QT_ELEITORES_PERFIL'].sum())"
   ]
  },
  {
   "attachments": {},
   "cell_type": "markdown",
   "metadata": {},
   "source": [
    "### Eleitorado 2010 - Remoção de NaN\n",
    "\n",
    "Foi observado que uma das linhas do dataset continha valores inválidos como Nan. Assim foi escolhido remover a linha pois não continha nenhuma informação relevante. \n",
    "Também foram removidos registros com idade 'INVÁLIDA'"
   ]
  },
  {
   "cell_type": "code",
   "execution_count": 96,
   "metadata": {},
   "outputs": [],
   "source": [
    "eleitorado_2010 = eleitorado_2010.drop([1326721])"
   ]
  },
  {
   "attachments": {},
   "cell_type": "markdown",
   "metadata": {},
   "source": [
    "### Remoção de idade 'INVÁLIDA'"
   ]
  },
  {
   "cell_type": "code",
   "execution_count": 104,
   "metadata": {},
   "outputs": [],
   "source": [
    "def remover_idade_invalida(dataset: pd.DataFrame, nome) -> pd.DataFrame:\n",
    "    return dataset[dataset.FAIXA_ETARIA != nome]"
   ]
  },
  {
   "cell_type": "code",
   "execution_count": 107,
   "metadata": {},
   "outputs": [],
   "source": [
    "eleitorado_2010 = remover_idade_invalida(eleitorado_2010, 'INVÁLIDA')\n",
    "eleitorado_2014 = remover_idade_invalida(eleitorado_2014, 'INVÁLIDO')\n",
    "eleitorado_2018 = remover_idade_invalida(eleitorado_2018, 'INVÁLIDO')\n",
    "eleitorado_2022 = remover_idade_invalida(eleitorado_2022, 'INVÁLIDO')"
   ]
  },
  {
   "attachments": {},
   "cell_type": "markdown",
   "metadata": {},
   "source": [
    "# Padronização dos nomes de colunas"
   ]
  },
  {
   "cell_type": "code",
   "execution_count": 97,
   "metadata": {},
   "outputs": [],
   "source": [
    "eleitorado_2002.rename(columns={ 'SG_UF': 'UF', 'DS_GENERO': 'GENERO', 'DS_GRAU_ESCOLARIDADE': 'GRAU_ESCOLARIDADE', 'QT_ELEITORES_PERFIL': 'QTD_ELEITORES_PERFIL'}, inplace=True)\n",
    "eleitorado_2006.rename(columns={ 'SG_UF': 'UF', 'DS_GENERO': 'GENERO', 'DS_GRAU_ESCOLARIDADE': 'GRAU_ESCOLARIDADE', 'QT_ELEITORES_PERFIL': 'QTD_ELEITORES_PERFIL'}, inplace=True)\n",
    "eleitorado_2010.rename(columns={ 'PERIODO': 'ANO_ELEICAO', 'SEXO': 'GENERO', 'GRAU_DE_ESCOLARIDADE': 'GRAU_ESCOLARIDADE'}, inplace=True)\n",
    "eleitorado_2014.rename(columns={ 'SG_UF': 'UF', 'DS_GENERO': 'GENERO', 'DS_GRAU_ESCOLARIDADE': 'GRAU_ESCOLARIDADE', 'QT_ELEITORES_PERFIL': 'QTD_ELEITORES_PERFIL', 'DS_FAIXA_ETARIA': 'FAIXA_ETARIA'}, inplace=True)\n",
    "eleitorado_2018.rename(columns={ 'SG_UF': 'UF', 'DS_GENERO': 'GENERO', 'DS_GRAU_ESCOLARIDADE': 'GRAU_ESCOLARIDADE', 'QT_ELEITORES_PERFIL': 'QTD_ELEITORES_PERFIL', 'DS_FAIXA_ETARIA': 'FAIXA_ETARIA'}, inplace=True)\n",
    "eleitorado_2022.rename(columns={ 'SG_UF': 'UF', 'DS_GENERO': 'GENERO', 'DS_GRAU_ESCOLARIDADE': 'GRAU_ESCOLARIDADE', 'QT_ELEITORES_PERFIL': 'QTD_ELEITORES_PERFIL', 'DS_FAIXA_ETARIA': 'FAIXA_ETARIA'}, inplace=True)"
   ]
  },
  {
   "attachments": {},
   "cell_type": "markdown",
   "metadata": {},
   "source": [
    "# Remoção de espaços a mais em colunas \n",
    "# Padronização dos dados de faixa etária para upper case "
   ]
  },
  {
   "cell_type": "code",
   "execution_count": 98,
   "metadata": {},
   "outputs": [],
   "source": [
    "def remover_whitespaces_faixa_etaria_e_padronizar(dataset: pd.DataFrame) -> pd.DataFrame:\n",
    "    aux = dataset['FAIXA_ETARIA'].str.strip()\n",
    "    return aux.str.upper() "
   ]
  },
  {
   "cell_type": "code",
   "execution_count": 99,
   "metadata": {},
   "outputs": [],
   "source": [
    "eleitorado_2014['FAIXA_ETARIA'] = remover_whitespaces_faixa_etaria_e_padronizar(eleitorado_2014)\n",
    "eleitorado_2018['FAIXA_ETARIA'] = remover_whitespaces_faixa_etaria_e_padronizar(eleitorado_2018)\n",
    "eleitorado_2022['FAIXA_ETARIA'] = remover_whitespaces_faixa_etaria_e_padronizar(eleitorado_2022)"
   ]
  },
  {
   "attachments": {},
   "cell_type": "markdown",
   "metadata": {},
   "source": [
    "# Remoção de eleitores obrigados a votar e separação em grupos\n",
    "\n",
    "Esses eleitores não fazem parte do estudo. \n",
    "Não são obrigados a votar e fazem parte do estudo: pessoas de 16 e 17 anos, com idade maior que 70 anos ou analfabetos.\n",
    "\n",
    "*Nos anos de 2002 e 2006 foram considerados apenas os analfabetos pois não há registro de faixa etária nos datasets."
   ]
  },
  {
   "attachments": {},
   "cell_type": "markdown",
   "metadata": {},
   "source": [
    "#### Analfabetos"
   ]
  },
  {
   "cell_type": "code",
   "execution_count": 53,
   "metadata": {},
   "outputs": [],
   "source": [
    "def separar_eleitores_analfabetos(dataset: pd.DataFrame) -> pd.DataFrame:\n",
    "    return dataset.loc[dataset['GRAU_ESCOLARIDADE'].isin(['ANALFABETO'])]"
   ]
  },
  {
   "cell_type": "code",
   "execution_count": 54,
   "metadata": {},
   "outputs": [],
   "source": [
    "eleitorado_2002_analfabeto = separar_eleitores_analfabetos(eleitorado_2002)\n",
    "eleitorado_2006_analfabeto = separar_eleitores_analfabetos(eleitorado_2006)\n",
    "eleitorado_2010_analfabeto = separar_eleitores_analfabetos(eleitorado_2010)\n",
    "eleitorado_2014_analfabeto = separar_eleitores_analfabetos(eleitorado_2014)\n",
    "eleitorado_2018_analfabeto = separar_eleitores_analfabetos(eleitorado_2018)\n",
    "eleitorado_2022_analfabeto = separar_eleitores_analfabetos(eleitorado_2022)"
   ]
  },
  {
   "attachments": {},
   "cell_type": "markdown",
   "metadata": {},
   "source": [
    "#### Menores de 18 anos"
   ]
  },
  {
   "cell_type": "code",
   "execution_count": 62,
   "metadata": {},
   "outputs": [],
   "source": [
    "def separar_eleitores_menores_de_18(dataset: pd.DataFrame) -> pd.DataFrame:\n",
    "    return dataset.loc[dataset['FAIXA_ETARIA'].isin(['16 ANOS', '17 ANOS'])]"
   ]
  },
  {
   "cell_type": "code",
   "execution_count": 63,
   "metadata": {},
   "outputs": [],
   "source": [
    "eleitorado_2010_menores_de_18 = separar_eleitores_menores_de_18(eleitorado_2010)\n",
    "eleitorado_2014_menores_de_18 = separar_eleitores_menores_de_18(eleitorado_2014)\n",
    "eleitorado_2018_menores_de_18 = separar_eleitores_menores_de_18(eleitorado_2018)\n",
    "eleitorado_2022_menores_de_18 = separar_eleitores_menores_de_18(eleitorado_2022)"
   ]
  },
  {
   "attachments": {},
   "cell_type": "markdown",
   "metadata": {},
   "source": [
    "#### Maiores de 70 anos"
   ]
  },
  {
   "cell_type": "code",
   "execution_count": 114,
   "metadata": {},
   "outputs": [],
   "source": [
    "def separar_eleitores_maiores_de_70(dataset: pd.DataFrame, faixas_etarias: \"list[str]\") -> pd.DataFrame:\n",
    "    return dataset.loc[dataset['FAIXA_ETARIA'].isin(faixas_etarias)]"
   ]
  },
  {
   "cell_type": "code",
   "execution_count": 121,
   "metadata": {},
   "outputs": [],
   "source": [
    "eleitorado_2010_maiores_de_70 = separar_eleitores_maiores_de_70(eleitorado_2010, ['70 A 79 ANOS', 'SUPERIOR A 79 ANOS'])\n",
    "eleitorado_2014_maiores_de_70 = separar_eleitores_maiores_de_70(eleitorado_2014, ['70 A 74 ANOS', '75 A 79 ANOS', '80 A 84 ANOS', '85 A 89 ANOS', '90 A 94 ANOS', '95 A 99 ANOS', '100 ANOS OU MAIS'])\n",
    "eleitorado_2018_maiores_de_70 = separar_eleitores_maiores_de_70(eleitorado_2018, ['70 A 74 ANOS', '75 A 79 ANOS', '80 A 84 ANOS', '85 A 89 ANOS', '90 A 94 ANOS', '95 A 99 ANOS', '100 ANOS OU MAIS'])\n",
    "eleitorado_2022_maiores_de_70 = separar_eleitores_maiores_de_70(eleitorado_2022, ['70 A 74 ANOS', '75 A 79 ANOS', '80 A 84 ANOS', '85 A 89 ANOS', '90 A 94 ANOS', '95 A 99 ANOS', '100 ANOS OU MAIS'])"
   ]
  }
 ],
 "metadata": {
  "kernelspec": {
   "display_name": "Python 3",
   "language": "python",
   "name": "python3"
  },
  "language_info": {
   "codemirror_mode": {
    "name": "ipython",
    "version": 3
   },
   "file_extension": ".py",
   "mimetype": "text/x-python",
   "name": "python",
   "nbconvert_exporter": "python",
   "pygments_lexer": "ipython3",
   "version": "3.9.13"
  },
  "orig_nbformat": 4,
  "vscode": {
   "interpreter": {
    "hash": "3137e636412bd7678261ae97795285e9bce6306561e2f40224ebbf2c6e82d315"
   }
  }
 },
 "nbformat": 4,
 "nbformat_minor": 2
}
