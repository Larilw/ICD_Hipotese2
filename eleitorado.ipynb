{
 "cells": [
  {
   "attachments": {},
   "cell_type": "markdown",
   "metadata": {},
   "source": [
    "# Alunos\n",
    "\n",
    "Completar os nomes depois\n",
    "* Gabriel\n",
    "* Larissa\n",
    "* Sofia\n"
   ]
  },
  {
   "attachments": {},
   "cell_type": "markdown",
   "metadata": {},
   "source": [
    "# Hipótese 2\n",
    "\n",
    "## Pergunta a ser respondida: A polarização política do país influencia no comparecimento de pessoas que não são obrigadas a votar nas eleições?\n",
    "\n",
    "    * Qual grupo ( Analfabetos, Menores de 18 anos ou Maiores de 70 anos ) sofre maior influência dos fatores políticos?\n",
    "\n",
    "    * Não sei oq mais"
   ]
  },
  {
   "attachments": {},
   "cell_type": "markdown",
   "metadata": {},
   "source": [
    "# Import dos Módulos Utilizados"
   ]
  },
  {
   "cell_type": "code",
   "execution_count": 2,
   "metadata": {},
   "outputs": [],
   "source": [
    "import numpy as np\n",
    "import pandas as pd\n",
    "import squarify\n",
    "import matplotlib\n",
    "import matplotlib.pyplot as plt"
   ]
  },
  {
   "attachments": {},
   "cell_type": "markdown",
   "metadata": {},
   "source": [
    "# Carregamento dos datasets\n",
    "\n",
    "http://data.uis.unesco.org/#"
   ]
  },
  {
   "cell_type": "code",
   "execution_count": 3,
   "metadata": {},
   "outputs": [],
   "source": [
    "original_2002 = pd.read_csv('Datasets\\perfil_eleitorado_2002.csv',  encoding='cp1252', sep=\";\")\n",
    "original_2006 = pd.read_csv('Datasets\\perfil_eleitorado_2006.csv',  encoding='cp1252', sep=\";\")\n",
    "# O carregamento dos dados do ano de 2010 foi realizado especificando as colunas de acordo com o documento LEIAME \n",
    "original_2010 = pd.read_csv('Datasets\\perfil_eleitorado_2010.txt',  encoding='cp1252', sep=\";\", names=[\"PERIODO\", \"UF\", \"MUNICIPIO\", \"COD_MUNICIPIO_TSE\", \"NR_ZONA\", \"SEXO\", \"FAIXA_ETARIA\", \"GRAU_DE_ESCOLARIDADE\", \"QTD_ELEITORES_PERFIL\"], low_memory=False)\n",
    "original_2014 = pd.read_csv('Datasets\\perfil_eleitorado_2014.csv',  encoding='cp1252', sep=\";\")\n",
    "original_2018 = pd.read_csv('Datasets\\perfil_eleitorado_2018.csv',  encoding='cp1252', sep=\";\")\n",
    "original_2022 = pd.read_csv('Datasets\\perfil_eleitorado_2022.csv',  encoding='cp1252', sep=\";\")\n"
   ]
  },
  {
   "cell_type": "code",
   "execution_count": 4,
   "metadata": {},
   "outputs": [],
   "source": [
    "alfabetismo = pd.read_csv('Datasets\\literacy.csv', encoding='cp1252', sep=\",\", on_bad_lines='skip')"
   ]
  },
  {
   "attachments": {},
   "cell_type": "markdown",
   "metadata": {},
   "source": [
    "# Remoção de Colunas Desnecessárias"
   ]
  },
  {
   "cell_type": "code",
   "execution_count": 5,
   "metadata": {},
   "outputs": [],
   "source": [
    "eleitorado_2002 = original_2002[[\"ANO_ELEICAO\", \"SG_UF\", \"DS_GENERO\", \"DS_GRAU_ESCOLARIDADE\", \"QT_ELEITORES_PERFIL\"]].copy()\n",
    "eleitorado_2006 = original_2006[[\"ANO_ELEICAO\", \"SG_UF\", \"DS_GENERO\", \"DS_GRAU_ESCOLARIDADE\", \"QT_ELEITORES_PERFIL\"]].copy()\n",
    "eleitorado_2010 = original_2010[[\"PERIODO\", \"UF\", \"SEXO\", \"FAIXA_ETARIA\", \"GRAU_DE_ESCOLARIDADE\", \"QTD_ELEITORES_PERFIL\"]].copy()\n",
    "eleitorado_2014 = original_2014[[\"ANO_ELEICAO\", \"SG_UF\", \"DS_GENERO\", \"DS_FAIXA_ETARIA\", \"DS_GRAU_ESCOLARIDADE\", \"QT_ELEITORES_PERFIL\"]].copy()\n",
    "eleitorado_2018 = original_2018[[\"ANO_ELEICAO\", \"SG_UF\", \"DS_GENERO\", \"DS_FAIXA_ETARIA\", \"DS_GRAU_ESCOLARIDADE\", \"QT_ELEITORES_PERFIL\"]].copy()\n",
    "eleitorado_2022 = original_2022[[\"ANO_ELEICAO\", \"SG_UF\", \"DS_GENERO\", \"DS_FAIXA_ETARIA\", \"DS_GRAU_ESCOLARIDADE\", \"QT_ELEITORES_PERFIL\"]].copy()\n"
   ]
  },
  {
   "attachments": {},
   "cell_type": "markdown",
   "metadata": {},
   "source": [
    "### Para o dataset de alfabetismo foram separadas as colunas com os anos em que houve eleição. Em razão de não existirem dados de 2022 foi escolhido utilizar 2021 como referência para essa eleição, o mesmo ocorreu com 2002 em que foram utilizados dados de 2004"
   ]
  },
  {
   "cell_type": "code",
   "execution_count": 6,
   "metadata": {},
   "outputs": [
    {
     "data": {
      "text/html": [
       "<div>\n",
       "<style scoped>\n",
       "    .dataframe tbody tr th:only-of-type {\n",
       "        vertical-align: middle;\n",
       "    }\n",
       "\n",
       "    .dataframe tbody tr th {\n",
       "        vertical-align: top;\n",
       "    }\n",
       "\n",
       "    .dataframe thead th {\n",
       "        text-align: right;\n",
       "    }\n",
       "</style>\n",
       "<table border=\"1\" class=\"dataframe\">\n",
       "  <thead>\n",
       "    <tr style=\"text-align: right;\">\n",
       "      <th></th>\n",
       "      <th>2004</th>\n",
       "      <th>2006</th>\n",
       "      <th>2010</th>\n",
       "      <th>2014</th>\n",
       "      <th>2018</th>\n",
       "      <th>2021</th>\n",
       "    </tr>\n",
       "  </thead>\n",
       "  <tbody>\n",
       "    <tr>\n",
       "      <th>29</th>\n",
       "      <td>88.616241</td>\n",
       "      <td>89.615227</td>\n",
       "      <td>90.379181</td>\n",
       "      <td>91.729431</td>\n",
       "      <td>93.227501</td>\n",
       "      <td>94.300003</td>\n",
       "    </tr>\n",
       "  </tbody>\n",
       "</table>\n",
       "</div>"
      ],
      "text/plain": [
       "         2004       2006       2010       2014       2018       2021\n",
       "29  88.616241  89.615227  90.379181  91.729431  93.227501  94.300003"
      ]
     },
     "execution_count": 6,
     "metadata": {},
     "output_type": "execute_result"
    }
   ],
   "source": [
    "alfabetismo_brasil = alfabetismo.loc[alfabetismo['Country Name'].isin(['Brazil'])]\n",
    "alfabetismo_brasil_anos_eleicao = alfabetismo_brasil[['2004', '2006', '2010', '2014', '2018', '2021']].astype('float')\n",
    "alfabetismo_brasil_anos_eleicao"
   ]
  },
  {
   "cell_type": "code",
   "execution_count": 7,
   "metadata": {},
   "outputs": [
    {
     "data": {
      "text/plain": [
       "'\\ndataset_2002\\ndataset_2006\\ndataset_2010\\ndataset_2014\\ndataset_2018\\ndataset_2022\\n'"
      ]
     },
     "execution_count": 7,
     "metadata": {},
     "output_type": "execute_result"
    }
   ],
   "source": [
    "\"\"\"\n",
    "dataset_2002\n",
    "dataset_2006\n",
    "dataset_2010\n",
    "dataset_2014\n",
    "dataset_2018\n",
    "dataset_2022\n",
    "\"\"\""
   ]
  },
  {
   "attachments": {},
   "cell_type": "markdown",
   "metadata": {},
   "source": [
    "# Remoção de Valores Inválidos\n",
    "\n",
    "Foram analisados os valores das colunas e verificou-se que apenas no dataset de 2010 havia valores NaN. Também foi verificado se valores \"NÃO INFORMADO\" para grau de escolaridade e gênero formavam um grupo considerável. Com a confirmação de que os dados em que não foi informada escolaridade englobam parte considerável dos eleitores envolvidos foi escolhido manter essas categorias a fim de estudo."
   ]
  },
  {
   "cell_type": "code",
   "execution_count": 8,
   "metadata": {},
   "outputs": [
    {
     "name": "stdout",
     "output_type": "stream",
     "text": [
      "8345043\n",
      "115254113\n"
     ]
    }
   ],
   "source": [
    "datanova = original_2002.loc[original_2002[\"DS_GRAU_ESCOLARIDADE\"].isin(['ANALFABETO'])]\n",
    "print(datanova['QT_ELEITORES_PERFIL'].sum())\n",
    "print(original_2002['QT_ELEITORES_PERFIL'].sum())"
   ]
  },
  {
   "attachments": {},
   "cell_type": "markdown",
   "metadata": {},
   "source": [
    "### Eleitorado 2010 - Remoção de NaN\n",
    "\n",
    "Foi observado que uma das linhas do dataset continha valores inválidos como Nan. Assim foi escolhido remover a linha pois não continha nenhuma informação relevante. \n",
    "Também foram removidos registros com idade 'INVÁLIDA'"
   ]
  },
  {
   "cell_type": "code",
   "execution_count": 9,
   "metadata": {},
   "outputs": [],
   "source": [
    "eleitorado_2010 = eleitorado_2010.drop([1326721])"
   ]
  },
  {
   "attachments": {},
   "cell_type": "markdown",
   "metadata": {},
   "source": [
    "# Padronização dos nomes de colunas"
   ]
  },
  {
   "cell_type": "code",
   "execution_count": 10,
   "metadata": {},
   "outputs": [],
   "source": [
    "eleitorado_2002.rename(columns={ 'SG_UF': 'UF', 'DS_GENERO': 'GENERO', 'DS_GRAU_ESCOLARIDADE': 'GRAU_ESCOLARIDADE', 'QT_ELEITORES_PERFIL': 'QTD_ELEITORES_PERFIL'}, inplace=True)\n",
    "eleitorado_2006.rename(columns={ 'SG_UF': 'UF', 'DS_GENERO': 'GENERO', 'DS_GRAU_ESCOLARIDADE': 'GRAU_ESCOLARIDADE', 'QT_ELEITORES_PERFIL': 'QTD_ELEITORES_PERFIL'}, inplace=True)\n",
    "eleitorado_2010.rename(columns={ 'PERIODO': 'ANO_ELEICAO', 'SEXO': 'GENERO', 'GRAU_DE_ESCOLARIDADE': 'GRAU_ESCOLARIDADE'}, inplace=True)\n",
    "eleitorado_2014.rename(columns={ 'SG_UF': 'UF', 'DS_GENERO': 'GENERO', 'DS_GRAU_ESCOLARIDADE': 'GRAU_ESCOLARIDADE', 'QT_ELEITORES_PERFIL': 'QTD_ELEITORES_PERFIL', 'DS_FAIXA_ETARIA': 'FAIXA_ETARIA'}, inplace=True)\n",
    "eleitorado_2018.rename(columns={ 'SG_UF': 'UF', 'DS_GENERO': 'GENERO', 'DS_GRAU_ESCOLARIDADE': 'GRAU_ESCOLARIDADE', 'QT_ELEITORES_PERFIL': 'QTD_ELEITORES_PERFIL', 'DS_FAIXA_ETARIA': 'FAIXA_ETARIA'}, inplace=True)\n",
    "eleitorado_2022.rename(columns={ 'SG_UF': 'UF', 'DS_GENERO': 'GENERO', 'DS_GRAU_ESCOLARIDADE': 'GRAU_ESCOLARIDADE', 'QT_ELEITORES_PERFIL': 'QTD_ELEITORES_PERFIL', 'DS_FAIXA_ETARIA': 'FAIXA_ETARIA'}, inplace=True)"
   ]
  },
  {
   "attachments": {},
   "cell_type": "markdown",
   "metadata": {},
   "source": [
    "### Remoção de idade 'INVÁLIDA'"
   ]
  },
  {
   "cell_type": "code",
   "execution_count": 11,
   "metadata": {},
   "outputs": [],
   "source": [
    "def remover_idade_invalida(dataset: pd.DataFrame, nome) -> pd.DataFrame:\n",
    "    return dataset[dataset.FAIXA_ETARIA != nome]"
   ]
  },
  {
   "cell_type": "code",
   "execution_count": 12,
   "metadata": {},
   "outputs": [],
   "source": [
    "eleitorado_2010 = remover_idade_invalida(eleitorado_2010, 'INVÁLIDA')\n",
    "eleitorado_2014 = remover_idade_invalida(eleitorado_2014, 'INVÁLIDO')\n",
    "eleitorado_2018 = remover_idade_invalida(eleitorado_2018, 'INVÁLIDO')\n",
    "eleitorado_2022 = remover_idade_invalida(eleitorado_2022, 'INVÁLIDO')"
   ]
  },
  {
   "attachments": {},
   "cell_type": "markdown",
   "metadata": {},
   "source": [
    "# Remoção de espaços a mais em colunas \n",
    "# Padronização dos dados de faixa etária para upper case "
   ]
  },
  {
   "cell_type": "code",
   "execution_count": 13,
   "metadata": {},
   "outputs": [],
   "source": [
    "def remover_whitespaces_faixa_etaria_e_padronizar(dataset: pd.DataFrame) -> pd.DataFrame:\n",
    "    aux = dataset['FAIXA_ETARIA'].str.strip()\n",
    "    return aux.str.upper() "
   ]
  },
  {
   "cell_type": "code",
   "execution_count": 14,
   "metadata": {},
   "outputs": [],
   "source": [
    "eleitorado_2014['FAIXA_ETARIA'] = remover_whitespaces_faixa_etaria_e_padronizar(eleitorado_2014)\n",
    "eleitorado_2018['FAIXA_ETARIA'] = remover_whitespaces_faixa_etaria_e_padronizar(eleitorado_2018)\n",
    "eleitorado_2022['FAIXA_ETARIA'] = remover_whitespaces_faixa_etaria_e_padronizar(eleitorado_2022)"
   ]
  },
  {
   "attachments": {},
   "cell_type": "markdown",
   "metadata": {},
   "source": [
    "# Remoção de eleitores obrigados a votar e separação em grupos\n",
    "\n",
    "Esses eleitores não fazem parte do estudo. \n",
    "Não são obrigados a votar e fazem parte do estudo: pessoas de 16 e 17 anos, com idade maior que 70 anos ou analfabetos.\n",
    "\n",
    "*Nos anos de 2002 e 2006 foram considerados apenas os analfabetos pois não há registro de faixa etária nos datasets."
   ]
  },
  {
   "attachments": {},
   "cell_type": "markdown",
   "metadata": {},
   "source": [
    "#### Analfabetos"
   ]
  },
  {
   "cell_type": "code",
   "execution_count": 15,
   "metadata": {},
   "outputs": [],
   "source": [
    "def separar_eleitores_analfabetos(dataset: pd.DataFrame) -> pd.DataFrame:\n",
    "    return dataset.loc[dataset['GRAU_ESCOLARIDADE'].isin(['ANALFABETO'])]\n",
    "\n",
    "def remover_eleitores_analfabetos(dataset: pd.DataFrame) -> pd.DataFrame:\n",
    "    return dataset[dataset.GRAU_ESCOLARIDADE != 'ANALFABETO']"
   ]
  },
  {
   "cell_type": "code",
   "execution_count": 16,
   "metadata": {},
   "outputs": [],
   "source": [
    "eleitorado_2002_analfabeto = separar_eleitores_analfabetos(eleitorado_2002)\n",
    "eleitorado_2006_analfabeto = separar_eleitores_analfabetos(eleitorado_2006)\n",
    "eleitorado_2010_analfabeto = separar_eleitores_analfabetos(eleitorado_2010)\n",
    "eleitorado_2014_analfabeto = separar_eleitores_analfabetos(eleitorado_2014)\n",
    "eleitorado_2018_analfabeto = separar_eleitores_analfabetos(eleitorado_2018)\n",
    "eleitorado_2022_analfabeto = separar_eleitores_analfabetos(eleitorado_2022)"
   ]
  },
  {
   "cell_type": "code",
   "execution_count": 17,
   "metadata": {},
   "outputs": [
    {
     "name": "stdout",
     "output_type": "stream",
     "text": [
      "8345043\n",
      "115254113\n"
     ]
    }
   ],
   "source": [
    "analfabetos = eleitorado_2002_analfabeto.loc[eleitorado_2002_analfabeto['GRAU_ESCOLARIDADE'].isin(['ANALFABETO'])]\n",
    "print(analfabetos.QTD_ELEITORES_PERFIL.sum())\n",
    "print(eleitorado_2002.QTD_ELEITORES_PERFIL.sum())"
   ]
  },
  {
   "attachments": {},
   "cell_type": "markdown",
   "metadata": {},
   "source": [
    "#### Menores de 18 anos"
   ]
  },
  {
   "cell_type": "code",
   "execution_count": 18,
   "metadata": {},
   "outputs": [],
   "source": [
    "def separar_eleitores_menores_de_18(dataset: pd.DataFrame) -> pd.DataFrame:\n",
    "    return dataset.loc[dataset['FAIXA_ETARIA'].isin(['16 ANOS', '17 ANOS'])]"
   ]
  },
  {
   "cell_type": "code",
   "execution_count": 19,
   "metadata": {},
   "outputs": [],
   "source": [
    "eleitorado_2010_menores_de_18 = separar_eleitores_menores_de_18(eleitorado_2010)\n",
    "eleitorado_2014_menores_de_18 = separar_eleitores_menores_de_18(eleitorado_2014)\n",
    "eleitorado_2018_menores_de_18 = separar_eleitores_menores_de_18(eleitorado_2018)\n",
    "eleitorado_2022_menores_de_18 = separar_eleitores_menores_de_18(eleitorado_2022)\n",
    "\n",
    "eleitorado_2010_menores_de_18 = remover_eleitores_analfabetos(eleitorado_2010_menores_de_18)\n",
    "eleitorado_2014_menores_de_18 = remover_eleitores_analfabetos(eleitorado_2014_menores_de_18)\n",
    "eleitorado_2018_menores_de_18 = remover_eleitores_analfabetos(eleitorado_2018_menores_de_18)\n",
    "eleitorado_2022_menores_de_18 = remover_eleitores_analfabetos(eleitorado_2022_menores_de_18)"
   ]
  },
  {
   "attachments": {},
   "cell_type": "markdown",
   "metadata": {},
   "source": [
    "#### Maiores de 70 anos"
   ]
  },
  {
   "cell_type": "code",
   "execution_count": 20,
   "metadata": {},
   "outputs": [],
   "source": [
    "def separar_eleitores_maiores_de_70(dataset: pd.DataFrame, faixas_etarias: \"list[str]\") -> pd.DataFrame:\n",
    "    return dataset.loc[dataset['FAIXA_ETARIA'].isin(faixas_etarias)]"
   ]
  },
  {
   "cell_type": "code",
   "execution_count": 21,
   "metadata": {},
   "outputs": [],
   "source": [
    "eleitorado_2010_maiores_de_70 = separar_eleitores_maiores_de_70(eleitorado_2010, ['70 A 79 ANOS', 'SUPERIOR A 79 ANOS'])\n",
    "eleitorado_2014_maiores_de_70 = separar_eleitores_maiores_de_70(eleitorado_2014, ['70 A 74 ANOS', '75 A 79 ANOS', '80 A 84 ANOS', '85 A 89 ANOS', '90 A 94 ANOS', '95 A 99 ANOS', '100 ANOS OU MAIS'])\n",
    "eleitorado_2018_maiores_de_70 = separar_eleitores_maiores_de_70(eleitorado_2018, ['70 A 74 ANOS', '75 A 79 ANOS', '80 A 84 ANOS', '85 A 89 ANOS', '90 A 94 ANOS', '95 A 99 ANOS', '100 ANOS OU MAIS'])\n",
    "eleitorado_2022_maiores_de_70 = separar_eleitores_maiores_de_70(eleitorado_2022, ['70 A 74 ANOS', '75 A 79 ANOS', '80 A 84 ANOS', '85 A 89 ANOS', '90 A 94 ANOS', '95 A 99 ANOS', '100 ANOS OU MAIS'])\n",
    "\n",
    "eleitorado_2010_maiores_de_70 = remover_eleitores_analfabetos(eleitorado_2010_maiores_de_70)\n",
    "eleitorado_2014_maiores_de_70 = remover_eleitores_analfabetos(eleitorado_2014_maiores_de_70)\n",
    "eleitorado_2018_maiores_de_70 = remover_eleitores_analfabetos(eleitorado_2018_maiores_de_70)\n",
    "eleitorado_2022_maiores_de_70 = remover_eleitores_analfabetos(eleitorado_2022_maiores_de_70)"
   ]
  },
  {
   "cell_type": "code",
   "execution_count": 22,
   "metadata": {},
   "outputs": [
    {
     "data": {
      "text/html": [
       "<div>\n",
       "<style scoped>\n",
       "    .dataframe tbody tr th:only-of-type {\n",
       "        vertical-align: middle;\n",
       "    }\n",
       "\n",
       "    .dataframe tbody tr th {\n",
       "        vertical-align: top;\n",
       "    }\n",
       "\n",
       "    .dataframe thead th {\n",
       "        text-align: right;\n",
       "    }\n",
       "</style>\n",
       "<table border=\"1\" class=\"dataframe\">\n",
       "  <thead>\n",
       "    <tr style=\"text-align: right;\">\n",
       "      <th></th>\n",
       "      <th>ANO_ELEICAO</th>\n",
       "      <th>UF</th>\n",
       "      <th>GENERO</th>\n",
       "      <th>GRAU_ESCOLARIDADE</th>\n",
       "      <th>QTD_ELEITORES_PERFIL</th>\n",
       "    </tr>\n",
       "  </thead>\n",
       "  <tbody>\n",
       "    <tr>\n",
       "      <th>1</th>\n",
       "      <td>2002</td>\n",
       "      <td>TO</td>\n",
       "      <td>FEMININO</td>\n",
       "      <td>ANALFABETO</td>\n",
       "      <td>227</td>\n",
       "    </tr>\n",
       "    <tr>\n",
       "      <th>7</th>\n",
       "      <td>2002</td>\n",
       "      <td>PR</td>\n",
       "      <td>FEMININO</td>\n",
       "      <td>ANALFABETO</td>\n",
       "      <td>140</td>\n",
       "    </tr>\n",
       "    <tr>\n",
       "      <th>11</th>\n",
       "      <td>2002</td>\n",
       "      <td>MG</td>\n",
       "      <td>NÃO INFORMADO</td>\n",
       "      <td>ANALFABETO</td>\n",
       "      <td>3</td>\n",
       "    </tr>\n",
       "    <tr>\n",
       "      <th>16</th>\n",
       "      <td>2002</td>\n",
       "      <td>PR</td>\n",
       "      <td>MASCULINO</td>\n",
       "      <td>ANALFABETO</td>\n",
       "      <td>148</td>\n",
       "    </tr>\n",
       "    <tr>\n",
       "      <th>25</th>\n",
       "      <td>2002</td>\n",
       "      <td>CE</td>\n",
       "      <td>FEMININO</td>\n",
       "      <td>ANALFABETO</td>\n",
       "      <td>1395</td>\n",
       "    </tr>\n",
       "    <tr>\n",
       "      <th>...</th>\n",
       "      <td>...</td>\n",
       "      <td>...</td>\n",
       "      <td>...</td>\n",
       "      <td>...</td>\n",
       "      <td>...</td>\n",
       "    </tr>\n",
       "    <tr>\n",
       "      <th>128512</th>\n",
       "      <td>2002</td>\n",
       "      <td>MA</td>\n",
       "      <td>NÃO INFORMADO</td>\n",
       "      <td>ANALFABETO</td>\n",
       "      <td>5</td>\n",
       "    </tr>\n",
       "    <tr>\n",
       "      <th>128513</th>\n",
       "      <td>2002</td>\n",
       "      <td>MG</td>\n",
       "      <td>NÃO INFORMADO</td>\n",
       "      <td>ANALFABETO</td>\n",
       "      <td>3</td>\n",
       "    </tr>\n",
       "    <tr>\n",
       "      <th>128516</th>\n",
       "      <td>2002</td>\n",
       "      <td>TO</td>\n",
       "      <td>FEMININO</td>\n",
       "      <td>ANALFABETO</td>\n",
       "      <td>204</td>\n",
       "    </tr>\n",
       "    <tr>\n",
       "      <th>128522</th>\n",
       "      <td>2002</td>\n",
       "      <td>PR</td>\n",
       "      <td>FEMININO</td>\n",
       "      <td>ANALFABETO</td>\n",
       "      <td>345</td>\n",
       "    </tr>\n",
       "    <tr>\n",
       "      <th>128524</th>\n",
       "      <td>2002</td>\n",
       "      <td>PI</td>\n",
       "      <td>MASCULINO</td>\n",
       "      <td>ANALFABETO</td>\n",
       "      <td>184</td>\n",
       "    </tr>\n",
       "  </tbody>\n",
       "</table>\n",
       "<p>15692 rows × 5 columns</p>\n",
       "</div>"
      ],
      "text/plain": [
       "        ANO_ELEICAO  UF         GENERO GRAU_ESCOLARIDADE  QTD_ELEITORES_PERFIL\n",
       "1              2002  TO       FEMININO        ANALFABETO                   227\n",
       "7              2002  PR       FEMININO        ANALFABETO                   140\n",
       "11             2002  MG  NÃO INFORMADO        ANALFABETO                     3\n",
       "16             2002  PR      MASCULINO        ANALFABETO                   148\n",
       "25             2002  CE       FEMININO        ANALFABETO                  1395\n",
       "...             ...  ..            ...               ...                   ...\n",
       "128512         2002  MA  NÃO INFORMADO        ANALFABETO                     5\n",
       "128513         2002  MG  NÃO INFORMADO        ANALFABETO                     3\n",
       "128516         2002  TO       FEMININO        ANALFABETO                   204\n",
       "128522         2002  PR       FEMININO        ANALFABETO                   345\n",
       "128524         2002  PI      MASCULINO        ANALFABETO                   184\n",
       "\n",
       "[15692 rows x 5 columns]"
      ]
     },
     "execution_count": 22,
     "metadata": {},
     "output_type": "execute_result"
    }
   ],
   "source": [
    "eleitorado_2002_analfabeto"
   ]
  },
  {
   "attachments": {},
   "cell_type": "markdown",
   "metadata": {},
   "source": [
    "# Gráficos\n"
   ]
  },
  {
   "cell_type": "code",
   "execution_count": 23,
   "metadata": {},
   "outputs": [
    {
     "data": {
      "text/html": [
       "<div>\n",
       "<style scoped>\n",
       "    .dataframe tbody tr th:only-of-type {\n",
       "        vertical-align: middle;\n",
       "    }\n",
       "\n",
       "    .dataframe tbody tr th {\n",
       "        vertical-align: top;\n",
       "    }\n",
       "\n",
       "    .dataframe thead th {\n",
       "        text-align: right;\n",
       "    }\n",
       "</style>\n",
       "<table border=\"1\" class=\"dataframe\">\n",
       "  <thead>\n",
       "    <tr style=\"text-align: right;\">\n",
       "      <th></th>\n",
       "      <th>ANO_ELEICAO</th>\n",
       "      <th>UF</th>\n",
       "      <th>GENERO</th>\n",
       "      <th>FAIXA_ETARIA</th>\n",
       "      <th>GRAU_ESCOLARIDADE</th>\n",
       "      <th>QTD_ELEITORES_PERFIL</th>\n",
       "    </tr>\n",
       "  </thead>\n",
       "  <tbody>\n",
       "    <tr>\n",
       "      <th>0</th>\n",
       "      <td>2010</td>\n",
       "      <td>AC</td>\n",
       "      <td>FEMININO</td>\n",
       "      <td>16 ANOS</td>\n",
       "      <td>ENSINO FUNDAMENTAL COMPLETO</td>\n",
       "      <td>2.0</td>\n",
       "    </tr>\n",
       "    <tr>\n",
       "      <th>1</th>\n",
       "      <td>2010</td>\n",
       "      <td>AC</td>\n",
       "      <td>FEMININO</td>\n",
       "      <td>16 ANOS</td>\n",
       "      <td>ENSINO FUNDAMENTAL INCOMPLETO</td>\n",
       "      <td>18.0</td>\n",
       "    </tr>\n",
       "    <tr>\n",
       "      <th>2</th>\n",
       "      <td>2010</td>\n",
       "      <td>AC</td>\n",
       "      <td>FEMININO</td>\n",
       "      <td>16 ANOS</td>\n",
       "      <td>ENSINO MÉDIO COMPLETO</td>\n",
       "      <td>1.0</td>\n",
       "    </tr>\n",
       "    <tr>\n",
       "      <th>3</th>\n",
       "      <td>2010</td>\n",
       "      <td>AC</td>\n",
       "      <td>FEMININO</td>\n",
       "      <td>16 ANOS</td>\n",
       "      <td>ENSINO MÉDIO INCOMPLETO</td>\n",
       "      <td>16.0</td>\n",
       "    </tr>\n",
       "    <tr>\n",
       "      <th>4</th>\n",
       "      <td>2010</td>\n",
       "      <td>AC</td>\n",
       "      <td>FEMININO</td>\n",
       "      <td>16 ANOS</td>\n",
       "      <td>LÊ E ESCREVE</td>\n",
       "      <td>6.0</td>\n",
       "    </tr>\n",
       "    <tr>\n",
       "      <th>...</th>\n",
       "      <td>...</td>\n",
       "      <td>...</td>\n",
       "      <td>...</td>\n",
       "      <td>...</td>\n",
       "      <td>...</td>\n",
       "      <td>...</td>\n",
       "    </tr>\n",
       "    <tr>\n",
       "      <th>1326716</th>\n",
       "      <td>2010</td>\n",
       "      <td>ZZ</td>\n",
       "      <td>MASCULINO</td>\n",
       "      <td>70 A 79 ANOS</td>\n",
       "      <td>SUPERIOR INCOMPLETO</td>\n",
       "      <td>3.0</td>\n",
       "    </tr>\n",
       "    <tr>\n",
       "      <th>1326717</th>\n",
       "      <td>2010</td>\n",
       "      <td>ZZ</td>\n",
       "      <td>MASCULINO</td>\n",
       "      <td>SUPERIOR A 79 ANOS</td>\n",
       "      <td>ENSINO FUNDAMENTAL INCOMPLETO</td>\n",
       "      <td>1.0</td>\n",
       "    </tr>\n",
       "    <tr>\n",
       "      <th>1326718</th>\n",
       "      <td>2010</td>\n",
       "      <td>ZZ</td>\n",
       "      <td>MASCULINO</td>\n",
       "      <td>SUPERIOR A 79 ANOS</td>\n",
       "      <td>ENSINO MÉDIO COMPLETO</td>\n",
       "      <td>3.0</td>\n",
       "    </tr>\n",
       "    <tr>\n",
       "      <th>1326719</th>\n",
       "      <td>2010</td>\n",
       "      <td>ZZ</td>\n",
       "      <td>MASCULINO</td>\n",
       "      <td>SUPERIOR A 79 ANOS</td>\n",
       "      <td>SUPERIOR COMPLETO</td>\n",
       "      <td>10.0</td>\n",
       "    </tr>\n",
       "    <tr>\n",
       "      <th>1326720</th>\n",
       "      <td>2010</td>\n",
       "      <td>ZZ</td>\n",
       "      <td>MASCULINO</td>\n",
       "      <td>SUPERIOR A 79 ANOS</td>\n",
       "      <td>SUPERIOR INCOMPLETO</td>\n",
       "      <td>1.0</td>\n",
       "    </tr>\n",
       "  </tbody>\n",
       "</table>\n",
       "<p>1326607 rows × 6 columns</p>\n",
       "</div>"
      ],
      "text/plain": [
       "        ANO_ELEICAO  UF     GENERO        FAIXA_ETARIA  \\\n",
       "0              2010  AC   FEMININO             16 ANOS   \n",
       "1              2010  AC   FEMININO             16 ANOS   \n",
       "2              2010  AC   FEMININO             16 ANOS   \n",
       "3              2010  AC   FEMININO             16 ANOS   \n",
       "4              2010  AC   FEMININO             16 ANOS   \n",
       "...             ...  ..        ...                 ...   \n",
       "1326716        2010  ZZ  MASCULINO        70 A 79 ANOS   \n",
       "1326717        2010  ZZ  MASCULINO  SUPERIOR A 79 ANOS   \n",
       "1326718        2010  ZZ  MASCULINO  SUPERIOR A 79 ANOS   \n",
       "1326719        2010  ZZ  MASCULINO  SUPERIOR A 79 ANOS   \n",
       "1326720        2010  ZZ  MASCULINO  SUPERIOR A 79 ANOS   \n",
       "\n",
       "                     GRAU_ESCOLARIDADE  QTD_ELEITORES_PERFIL  \n",
       "0          ENSINO FUNDAMENTAL COMPLETO                   2.0  \n",
       "1        ENSINO FUNDAMENTAL INCOMPLETO                  18.0  \n",
       "2                ENSINO MÉDIO COMPLETO                   1.0  \n",
       "3              ENSINO MÉDIO INCOMPLETO                  16.0  \n",
       "4                         LÊ E ESCREVE                   6.0  \n",
       "...                                ...                   ...  \n",
       "1326716            SUPERIOR INCOMPLETO                   3.0  \n",
       "1326717  ENSINO FUNDAMENTAL INCOMPLETO                   1.0  \n",
       "1326718          ENSINO MÉDIO COMPLETO                   3.0  \n",
       "1326719              SUPERIOR COMPLETO                  10.0  \n",
       "1326720            SUPERIOR INCOMPLETO                   1.0  \n",
       "\n",
       "[1326607 rows x 6 columns]"
      ]
     },
     "execution_count": 23,
     "metadata": {},
     "output_type": "execute_result"
    }
   ],
   "source": [
    "eleitorado_2010"
   ]
  },
  {
   "cell_type": "code",
   "execution_count": null,
   "metadata": {},
   "outputs": [],
   "source": []
  },
  {
   "cell_type": "code",
   "execution_count": 24,
   "metadata": {},
   "outputs": [
    {
     "ename": "TypeError",
     "evalue": "only size-1 arrays can be converted to Python scalars",
     "output_type": "error",
     "traceback": [
      "\u001b[1;31m---------------------------------------------------------------------------\u001b[0m",
      "\u001b[1;31mTypeError\u001b[0m                                 Traceback (most recent call last)",
      "Cell \u001b[1;32mIn [24], line 4\u001b[0m\n\u001b[0;32m      2\u001b[0m alf \u001b[39m=\u001b[39m alfabetismo_brasil_anos_eleicao\u001b[39m.\u001b[39mgroupby(by\u001b[39m=\u001b[39m[\u001b[39m'\u001b[39m\u001b[39m2004\u001b[39m\u001b[39m'\u001b[39m, \u001b[39m'\u001b[39m\u001b[39m2006\u001b[39m\u001b[39m'\u001b[39m, \u001b[39m'\u001b[39m\u001b[39m2010\u001b[39m\u001b[39m'\u001b[39m, \u001b[39m'\u001b[39m\u001b[39m2014\u001b[39m\u001b[39m'\u001b[39m, \u001b[39m'\u001b[39m\u001b[39m2018\u001b[39m\u001b[39m'\u001b[39m, \u001b[39m'\u001b[39m\u001b[39m2021\u001b[39m\u001b[39m'\u001b[39m])\u001b[39m.\u001b[39msum()\n\u001b[0;32m      3\u001b[0m plt\u001b[39m.\u001b[39mfigure(figsize\u001b[39m=\u001b[39m(\u001b[39m12\u001b[39m,\u001b[39m7\u001b[39m))\n\u001b[1;32m----> 4\u001b[0m squarify\u001b[39m.\u001b[39;49mplot(sizes\u001b[39m=\u001b[39;49malf\u001b[39m.\u001b[39;49mvalues, label\u001b[39m=\u001b[39;49malf\u001b[39m.\u001b[39;49mindex, alpha\u001b[39m=\u001b[39;49m\u001b[39m0.7\u001b[39;49m)\n\u001b[0;32m      6\u001b[0m plt\u001b[39m.\u001b[39maxis(\u001b[39m'\u001b[39m\u001b[39moff\u001b[39m\u001b[39m'\u001b[39m)\n\u001b[0;32m      8\u001b[0m plt\u001b[39m.\u001b[39mshow()\n",
      "File \u001b[1;32m~\\AppData\\Local\\Packages\\PythonSoftwareFoundation.Python.3.9_qbz5n2kfra8p0\\LocalCache\\local-packages\\Python39\\site-packages\\squarify\\__init__.py:241\u001b[0m, in \u001b[0;36mplot\u001b[1;34m(sizes, norm_x, norm_y, color, label, value, ax, pad, bar_kwargs, text_kwargs, **kwargs)\u001b[0m\n\u001b[0;32m    238\u001b[0m \u001b[39mif\u001b[39;00m \u001b[39mlen\u001b[39m(kwargs) \u001b[39m>\u001b[39m \u001b[39m0\u001b[39m:\n\u001b[0;32m    239\u001b[0m     bar_kwargs\u001b[39m.\u001b[39mupdate(kwargs)\n\u001b[1;32m--> 241\u001b[0m normed \u001b[39m=\u001b[39m normalize_sizes(sizes, norm_x, norm_y)\n\u001b[0;32m    243\u001b[0m \u001b[39mif\u001b[39;00m pad:\n\u001b[0;32m    244\u001b[0m     rects \u001b[39m=\u001b[39m padded_squarify(normed, \u001b[39m0\u001b[39m, \u001b[39m0\u001b[39m, norm_x, norm_y)\n",
      "File \u001b[1;32m~\\AppData\\Local\\Packages\\PythonSoftwareFoundation.Python.3.9_qbz5n2kfra8p0\\LocalCache\\local-packages\\Python39\\site-packages\\squarify\\__init__.py:174\u001b[0m, in \u001b[0;36mnormalize_sizes\u001b[1;34m(sizes, dx, dy)\u001b[0m\n\u001b[0;32m    172\u001b[0m sizes \u001b[39m=\u001b[39m \u001b[39mmap\u001b[39m(\u001b[39mfloat\u001b[39m, sizes)\n\u001b[0;32m    173\u001b[0m sizes \u001b[39m=\u001b[39m \u001b[39mmap\u001b[39m(\u001b[39mlambda\u001b[39;00m size: size \u001b[39m*\u001b[39m total_area \u001b[39m/\u001b[39m total_size, sizes)\n\u001b[1;32m--> 174\u001b[0m \u001b[39mreturn\u001b[39;00m \u001b[39mlist\u001b[39;49m(sizes)\n",
      "\u001b[1;31mTypeError\u001b[0m: only size-1 arrays can be converted to Python scalars"
     ]
    },
    {
     "data": {
      "image/png": "[encoded data removed]",
      "text/plain": [
       "<Figure size 1200x700 with 1 Axes>"
      ]
     },
     "metadata": {},
     "output_type": "display_data"
    }
   ],
   "source": [
    "grupos_2010 = eleitorado_2010.groupby(by=['FAIXA_ETARIA', 'GRAU_ESCOLARIDADE'])[['QTD_ELEITORES_PERFIL']].sum()\n",
    "alf = alfabetismo_brasil_anos_eleicao.groupby(by=['2004', '2006', '2010', '2014', '2018', '2021']).sum()\n",
    "plt.figure(figsize=(12,7))\n",
    "squarify.plot(sizes=alf.values, label=alf.index, alpha=0.7)\n",
    "\n",
    "plt.axis('off')\n",
    "\n",
    "plt.show()\n"
   ]
  },
  {
   "cell_type": "code",
   "execution_count": 38,
   "metadata": {},
   "outputs": [
    {
     "data": {
      "text/plain": [
       "(0.0, 100.0, 0.0, 100.0)"
      ]
     },
     "execution_count": 38,
     "metadata": {},
     "output_type": "execute_result"
    },
    {
     "data": {
      "image/png": "[encoded data removed]",
      "text/plain": [
       "<Figure size 1200x700 with 1 Axes>"
      ]
     },
     "metadata": {},
     "output_type": "display_data"
    }
   ],
   "source": [
    "grupos_2010_escolaridade = eleitorado_2010_analfabeto.groupby(by=['GRAU_ESCOLARIDADE'])[['QTD_ELEITORES_PERFIL']].sum()\n",
    "grupos_2010_idade = eleitorado_2010_maiores_de_70.groupby('FAIXA_ETARIA')[['QTD_ELEITORES_PERFIL']].sum()\n",
    "grupos_2010_novos = eleitorado_2010_menores_de_18.groupby('FAIXA_ETARIA')[['QTD_ELEITORES_PERFIL']].sum()\n",
    "#Tá errado\n",
    "outros_2010 = pd.concat([eleitorado_2010, eleitorado_2010_menores_de_18, eleitorado_2010_maiores_de_70]).drop_duplicates(keep=False).groupby('FAIXA_ETARIA')[['QTD_ELEITORES_PERFIL']].sum()\n",
    "grupos_2010 = pd.concat([grupos_2010_escolaridade, grupos_2010_idade, grupos_2010_novos, outros_2010])\n",
    "plt.figure(figsize=(12,7))\n",
    "squarify.plot(sizes=grupos_2010.values, label=grupos_2010.index, alpha=0.7)\n",
    "\n",
    "plt.axis('off')\n",
    "\n",
    "##plt.show()\n"
   ]
  }
 ],
 "metadata": {
  "kernelspec": {
   "display_name": "Python 3",
   "language": "python",
   "name": "python3"
  },
  "language_info": {
   "codemirror_mode": {
    "name": "ipython",
    "version": 3
   },
   "file_extension": ".py",
   "mimetype": "text/x-python",
   "name": "python",
   "nbconvert_exporter": "python",
   "pygments_lexer": "ipython3",
   "version": "3.9.13"
  },
  "orig_nbformat": 4,
  "vscode": {
   "interpreter": {
    "hash": "3137e636412bd7678261ae97795285e9bce6306561e2f40224ebbf2c6e82d315"
   }
  }
 },
 "nbformat": 4,
 "nbformat_minor": 2
}
